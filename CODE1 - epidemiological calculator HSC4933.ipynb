{
 "cells": [
  {
   "cell_type": "code",
   "execution_count": 1,
   "id": "2d4a10a1",
   "metadata": {},
   "outputs": [
    {
     "name": "stdout",
     "output_type": "stream",
     "text": [
      "Population:1780000\n",
      "Existing cases: 99\n",
      "5.5617977528089886e-05\n",
      "5.561797752808989\n"
     ]
    }
   ],
   "source": [
    "# prevalence\n",
    "population = int(input(\"Population:\"))\n",
    "existingcases = int(input(\"Existing cases: \"))\n",
    "prevalence = existingcases / population\n",
    "print(prevalence)\n",
    "print(prevalence * 100000)"
   ]
  },
  {
   "cell_type": "code",
   "execution_count": 2,
   "id": "f6d7b55b",
   "metadata": {},
   "outputs": [
    {
     "name": "stdout",
     "output_type": "stream",
     "text": [
      "New cases: 19\n",
      "Population:1780000\n",
      "1.0674157303370787e-05\n",
      "1.0674157303370786\n"
     ]
    }
   ],
   "source": [
    "# incidence\n",
    "newcases = int(input(\"New cases: \"))\n",
    "population = int(input(\"Population:\"))\n",
    "incidence = newcases / population\n",
    "print(incidence)\n",
    "print(incidence * 100000)"
   ]
  },
  {
   "cell_type": "code",
   "execution_count": 1,
   "id": "8b0f0188",
   "metadata": {},
   "outputs": [
    {
     "name": "stdout",
     "output_type": "stream",
     "text": [
      "Number of those who died: 2\n",
      "Number of those who had the disease: 99\n",
      "0.020202020202020204\n",
      "2020.2020202020203\n"
     ]
    }
   ],
   "source": [
    "# mortality rate\n",
    "dead = int(input(\"Number of those who died: \"))\n",
    "segment = int(input(\"Number of those who had the disease: \"))\n",
    "mortalityrate = dead / segment\n",
    "print(mortalityrate)\n",
    "print(mortalityrate * 100000)"
   ]
  },
  {
   "cell_type": "code",
   "execution_count": 2,
   "id": "a9625892",
   "metadata": {},
   "outputs": [
    {
     "name": "stdout",
     "output_type": "stream",
     "text": [
      "13\n",
      "3\n"
     ]
    }
   ],
   "source": [
    "# years of potential life lost\n",
    "lifeexpectancy = 77\n",
    "ages = [64, 74]\n",
    "print(lifeexpectancy - ages[0])\n",
    "print(lifeexpectancy - ages[1])\n"
   ]
  },
  {
   "cell_type": "code",
   "execution_count": 3,
   "id": "fc785577",
   "metadata": {},
   "outputs": [
    {
     "name": "stdout",
     "output_type": "stream",
     "text": [
      "8.0\n"
     ]
    }
   ],
   "source": [
    "lifelost = [13, 3]\n",
    "yppl = sum(lifelost) / len(lifelost)\n",
    "print(yppl)\n"
   ]
  },
  {
   "cell_type": "code",
   "execution_count": 5,
   "id": "ee2b7f88",
   "metadata": {},
   "outputs": [
    {
     "name": "stdout",
     "output_type": "stream",
     "text": [
      "Population:2660000\n",
      "Existing cases: 1459\n",
      "0.0005484962406015038\n",
      "54.849624060150376\n"
     ]
    }
   ],
   "source": [
    "# prevalence 2\n",
    "population = int(input(\"Population:\"))\n",
    "existingcases = int(input(\"Existing cases: \"))\n",
    "prevalence = existingcases / population\n",
    "print(prevalence)\n",
    "print(prevalence * 100000)"
   ]
  },
  {
   "cell_type": "code",
   "execution_count": 6,
   "id": "bca87653",
   "metadata": {},
   "outputs": [
    {
     "name": "stdout",
     "output_type": "stream",
     "text": [
      "New cases: 248\n",
      "Population:2660000\n",
      "9.323308270676691e-05\n",
      "9.32330827067669\n"
     ]
    }
   ],
   "source": [
    "# incidence 2\n",
    "newcases = int(input(\"New cases: \"))\n",
    "population = int(input(\"Population:\"))\n",
    "incidence = newcases / population\n",
    "print(incidence)\n",
    "print(incidence * 100000)"
   ]
  },
  {
   "cell_type": "code",
   "execution_count": 7,
   "id": "202c60a8",
   "metadata": {},
   "outputs": [
    {
     "name": "stdout",
     "output_type": "stream",
     "text": [
      "Number of those who died: 1\n",
      "Number of those who had the disease: 1459\n",
      "0.0006854009595613434\n",
      "68.54009595613434\n"
     ]
    }
   ],
   "source": [
    "# mortality rate 2\n",
    "dead = int(input(\"Number of those who died: \"))\n",
    "segment = int(input(\"Number of those who had the disease: \"))\n",
    "mortalityrate = dead / segment\n",
    "print(mortalityrate)\n",
    "print(mortalityrate * 100000)"
   ]
  },
  {
   "cell_type": "code",
   "execution_count": 8,
   "id": "50036fde",
   "metadata": {},
   "outputs": [
    {
     "name": "stdout",
     "output_type": "stream",
     "text": [
      "Population:100000\n",
      "Existing cases: 3000\n",
      "0.03\n",
      "3000.0\n"
     ]
    }
   ],
   "source": [
    "# prevalence 3\n",
    "population = int(input(\"Population:\"))\n",
    "existingcases = int(input(\"Existing cases: \"))\n",
    "prevalence = existingcases / population\n",
    "print(prevalence)\n",
    "print(prevalence * 100000)"
   ]
  },
  {
   "cell_type": "code",
   "execution_count": 9,
   "id": "46a7602b",
   "metadata": {},
   "outputs": [
    {
     "name": "stdout",
     "output_type": "stream",
     "text": [
      "New cases: 2500\n",
      "Population:100000\n",
      "0.025\n",
      "2500.0\n"
     ]
    }
   ],
   "source": [
    "# incidence 3\n",
    "newcases = int(input(\"New cases: \"))\n",
    "population = int(input(\"Population:\"))\n",
    "incidence = newcases / population\n",
    "print(incidence)\n",
    "print(incidence * 100000)"
   ]
  },
  {
   "cell_type": "code",
   "execution_count": 10,
   "id": "d0ad93df",
   "metadata": {},
   "outputs": [
    {
     "name": "stdout",
     "output_type": "stream",
     "text": [
      "Number of those who died: 40\n",
      "Number of those who had the disease: 3000\n",
      "0.013333333333333334\n",
      "1333.3333333333335\n"
     ]
    }
   ],
   "source": [
    "# mortality rate 3\n",
    "dead = int(input(\"Number of those who died: \"))\n",
    "segment = int(input(\"Number of those who had the disease: \"))\n",
    "mortalityrate = dead / segment\n",
    "print(mortalityrate)\n",
    "print(mortalityrate * 100000)"
   ]
  },
  {
   "cell_type": "code",
   "execution_count": 11,
   "id": "a761b120",
   "metadata": {},
   "outputs": [
    {
     "name": "stdout",
     "output_type": "stream",
     "text": [
      "Population:1780000\n",
      "Existing cases: 15000\n",
      "0.008426966292134831\n",
      "842.6966292134831\n"
     ]
    }
   ],
   "source": [
    "# prevalence 4\n",
    "population = int(input(\"Population:\"))\n",
    "existingcases = int(input(\"Existing cases: \"))\n",
    "prevalence = existingcases / population\n",
    "print(prevalence)\n",
    "print(prevalence * 100000)"
   ]
  },
  {
   "cell_type": "code",
   "execution_count": 12,
   "id": "742e639d",
   "metadata": {},
   "outputs": [
    {
     "name": "stdout",
     "output_type": "stream",
     "text": [
      "New cases: 3000\n",
      "Population:1780000\n",
      "0.0016853932584269663\n",
      "168.53932584269663\n"
     ]
    }
   ],
   "source": [
    "# incidence 4\n",
    "newcases = int(input(\"New cases: \"))\n",
    "population = int(input(\"Population:\"))\n",
    "incidence = newcases / population\n",
    "print(incidence)\n",
    "print(incidence * 100000)"
   ]
  },
  {
   "cell_type": "code",
   "execution_count": 13,
   "id": "51cf5eb1",
   "metadata": {},
   "outputs": [
    {
     "name": "stdout",
     "output_type": "stream",
     "text": [
      "Number of those who died: 5\n",
      "Number of those who had the disease: 15000\n",
      "0.0003333333333333333\n",
      "33.333333333333336\n"
     ]
    }
   ],
   "source": [
    "# mortality rate 4\n",
    "dead = int(input(\"Number of those who died: \"))\n",
    "segment = int(input(\"Number of those who had the disease: \"))\n",
    "mortalityrate = dead / segment\n",
    "print(mortalityrate)\n",
    "print(mortalityrate * 100000)"
   ]
  },
  {
   "cell_type": "code",
   "execution_count": 14,
   "id": "206e500e",
   "metadata": {},
   "outputs": [
    {
     "name": "stdout",
     "output_type": "stream",
     "text": [
      "49\n",
      "45\n",
      "40\n",
      "32\n",
      "25\n"
     ]
    }
   ],
   "source": [
    "# years of potential life lost 4\n",
    "lifeexpectancy = 77\n",
    "ages = [28, 32, 37, 45, 52]\n",
    "print(lifeexpectancy - ages[0])\n",
    "print(lifeexpectancy - ages[1])\n",
    "print(lifeexpectancy - ages[2])\n",
    "print(lifeexpectancy - ages[3])\n",
    "print(lifeexpectancy - ages[4])\n"
   ]
  },
  {
   "cell_type": "code",
   "execution_count": 15,
   "id": "c462bf7d",
   "metadata": {},
   "outputs": [
    {
     "name": "stdout",
     "output_type": "stream",
     "text": [
      "38.2\n"
     ]
    }
   ],
   "source": [
    "lifelost = [49, 45, 40, 32, 25]\n",
    "yppl = sum(lifelost) / len(lifelost)\n",
    "print(yppl)"
   ]
  }
 ],
 "metadata": {
  "kernelspec": {
   "display_name": "Python 3 (ipykernel)",
   "language": "python",
   "name": "python3"
  },
  "language_info": {
   "codemirror_mode": {
    "name": "ipython",
    "version": 3
   },
   "file_extension": ".py",
   "mimetype": "text/x-python",
   "name": "python",
   "nbconvert_exporter": "python",
   "pygments_lexer": "ipython3",
   "version": "3.11.4"
  }
 },
 "nbformat": 4,
 "nbformat_minor": 5
}
